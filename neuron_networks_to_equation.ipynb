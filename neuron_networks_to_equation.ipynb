{
  "nbformat": 4,
  "nbformat_minor": 0,
  "metadata": {
    "colab": {
      "name": "Gist_template.ipynb",
      "provenance": []
    },
    "kernelspec": {
      "name": "python3",
      "display_name": "Python 3"
    }
  },
  "cells": [
    {
      "cell_type": "code",
      "metadata": {
        "id": "rIR1Zm1Ah2aF",
        "colab_type": "code",
        "colab": {}
      },
      "source": [
        "from sklearn.preprocessing import MinMaxScaler\n",
        "from keras.models import Sequential\n",
        "from keras.layers import Dense\n",
        "from numpy import asarray\n",
        "from matplotlib import pyplot\n",
        "import numpy as np\n",
        "import re\n",
        "import sympy\n",
        "np.set_printoptions(suppress=True)"
      ],
      "execution_count": 0,
      "outputs": []
    },
    {
      "cell_type": "code",
      "metadata": {
        "id": "catI8D4UOwgU",
        "colab_type": "code",
        "colab": {}
      },
      "source": [
        "# define data\n",
        "x = asarray([i/500 for i in range(-500,500)])\n",
        "y = asarray([np.power(i,3)/np.power(2, (i/(abs(i)+1))) for i in x])\n",
        "\n",
        "x = x.reshape((len(x), 1))\n",
        "y = y.reshape((len(y), 1))\n",
        "\n",
        "scale_x = MinMaxScaler()\n",
        "x = scale_x.fit_transform(x)\n",
        "scale_y = MinMaxScaler()\n",
        "y = scale_y.fit_transform(y)"
      ],
      "execution_count": 0,
      "outputs": []
    },
    {
      "cell_type": "code",
      "metadata": {
        "id": "1W_FJCjNGAbj",
        "colab_type": "code",
        "colab": {}
      },
      "source": [
        "# define and run model\n",
        "model = Sequential()\n",
        "model.add(Dense(5, input_dim=1, activation='tanh', kernel_initializer='he_uniform'))\n",
        "# model.add(Dense(2, input_dim=1, activation='tanh', kernel_initializer='he_uniform'))\n",
        "model.add(Dense(1, name='Output'))\n",
        "\n",
        "model.compile(loss='mse', optimizer='adam')\n",
        "model.fit(x, y, epochs=200, batch_size=10, verbose=0)\n",
        "yhat = model.predict(x)"
      ],
      "execution_count": 0,
      "outputs": []
    },
    {
      "cell_type": "code",
      "metadata": {
        "id": "tz-IycMCGC0A",
        "colab_type": "code",
        "colab": {}
      },
      "source": [
        "# inverse transforms\n",
        "x_plot = scale_x.inverse_transform(x)\n",
        "y_plot = scale_y.inverse_transform(y)\n",
        "yhat_plot = scale_y.inverse_transform(yhat)"
      ],
      "execution_count": 0,
      "outputs": []
    },
    {
      "cell_type": "code",
      "metadata": {
        "id": "4voCL1UrGFD4",
        "colab_type": "code",
        "colab": {
          "base_uri": "https://localhost:8080/",
          "height": 293
        },
        "outputId": "316f755b-437b-45b0-f931-5ab794d84f96"
      },
      "source": [
        "# plot x vs yhat\n",
        "pyplot.scatter(x_plot,y_plot, label='Actual')\n",
        "pyplot.scatter(x_plot,yhat_plot, label='Predicted')\n",
        "pyplot.title('Input (x) versus Output (y)')\n",
        "pyplot.xlabel('Input Variable (x)')\n",
        "pyplot.ylabel('Output Variable (y)')\n",
        "pyplot.legend()\n",
        "pyplot.show()"
      ],
      "execution_count": 111,
      "outputs": [
        {
          "output_type": "display_data",
          "data": {
            "image/png": "[encoded data removed]",
            "text/plain": [
              "<Figure size 432x288 with 1 Axes>"
            ]
          },
          "metadata": {
            "tags": [],
            "needs_background": "light"
          }
        }
      ]
    },
    {
      "cell_type": "code",
      "metadata": {
        "id": "-ZRbgwxgGdbQ",
        "colab_type": "code",
        "colab": {
          "base_uri": "https://localhost:8080/",
          "height": 35
        },
        "outputId": "38641dec-78df-4b6d-dd75-51c240a1b2d3"
      },
      "source": [
        "### Conversion to Basic Formula\n",
        "\n",
        "# temp list as a container for each layer formulas\n",
        "formula_list = []\n",
        "# counter of hidden layers\n",
        "f_n = 1\n",
        "#\n",
        "for i in range(len(model.layers)):\n",
        "    # get ith Keras layer's weights and biases\n",
        "    layer = model.layers[i]\n",
        "    W = layer.get_weights()\n",
        "    # empty text string to which concatenate current layer formula parts\n",
        "    formula = ''\n",
        "    # set script for input layer\n",
        "    if i == 0:\n",
        "        for i in range(W[0].shape[1]):\n",
        "            cur_weight = np.sum(W[0][0,i])\n",
        "            cur_bias = np.sum(W[1][i])\n",
        "            # build formula for this layer\n",
        "            formula += '*'+str(np.round(cur_weight,2))+'*'+'x+'+'*'+str(np.round(cur_bias,2)) + '*'+ '/'\n",
        "        # append this layer formula to temp list\n",
        "        formula_list.append(formula)\n",
        "\n",
        "    # set script for hidden layers\n",
        "    elif i < len(model.layers)-1:\n",
        "        # start loop for next layer each neuron\n",
        "        for c in range(W[0].shape[1]):\n",
        "            cur_bias = np.sum(W[1][c])\n",
        "            for i in range(W[0].shape[0]):\n",
        "                cur_weight = np.sum(W[0][i, c])\n",
        "                # build formula for this layer using previous layer formula\n",
        "                formula += '*'+str(np.round(cur_weight,2))+'*'+'f'+str(f_n)+'('+formula_list[-1].split('/')[i]+')'+'f'+str(f_n)+'+'\n",
        "            formula += '*'+str(np.round(cur_bias,2))+'*' + '/'\n",
        "        # append this layer formula to temp list\n",
        "        formula_list.append(formula)\n",
        "        # increase index number for the next hidden layer\n",
        "        f_n+=1\n",
        "    # set script for output layer\n",
        "    else:\n",
        "        for i in range(W[0].shape[0]):\n",
        "            cur_weight = np.sum(W[0][i, 0])\n",
        "            # build formula for this layer using previous layer formula\n",
        "            formula += '*'+str(np.round(cur_weight,2))+'*'+'f'+str(f_n)+'('+formula_list[-1].split('/')[i]+')'+'f'+str(f_n)+'+'\n",
        "        cur_bias = np.sum(W[1][0])\n",
        "        formula += '*'+str(np.round(cur_bias,2))+'*'\n",
        "        # append this layer formula to temp list\n",
        "        formula_list.append(formula)\n",
        "# get last formula\n",
        "formula = formula_list[-1]\n",
        "# make some cleanings\n",
        "formula = formula.replace('+*-','-')\n",
        "formula = formula.replace('+*0.0*','')\n",
        "formula = formula.replace('-*0.0*','')\n",
        "formula = formula.replace('*','')\n",
        "print(formula)"
      ],
      "execution_count": 112,
      "outputs": [
        {
          "output_type": "stream",
          "text": [
            "0.71f1(-2.74x+1.28)f1-1.25f1(-0.9x+0.66)f1-0.86f1(-0.78x+0.27)f1+0.86f1(3.98x+0.4)f1+0.03f1(0.9x+0.1)f1+0.02\n"
          ],
          "name": "stdout"
        }
      ]
    },
    {
      "cell_type": "code",
      "metadata": {
        "id": "P5vb842JGt3R",
        "colab_type": "code",
        "colab": {
          "base_uri": "https://localhost:8080/",
          "height": 55
        },
        "outputId": "799859c3-1e4a-4ced-c0e4-182236730b7b"
      },
      "source": [
        "# create LaTeX code\n",
        "def latex_activation_function(x):\n",
        "    return '\\\\frac{e^{'+x+'} - e^{-'+x+'}}{e^{'+x+'} + e^{-'+x+'}}'\n",
        "\n",
        "\n",
        "formula_latex = formula\n",
        "for i in range(1,f_n+1):\n",
        "    exist = True\n",
        "    while exist:\n",
        "        try:\n",
        "            pattern = 'f'+str(i)+'(.*?)'+'f'+str(i)\n",
        "            substring = re.search(pattern, formula_latex).group(1)\n",
        "            start = re.search(pattern, formula_latex).start()\n",
        "            formula_latex = formula_latex[:start] + latex_activation_function(substring) + formula_latex[start + 4 + len(substring):]\n",
        "        except:\n",
        "            exist = False\n",
        "\n",
        "print(formula_latex)"
      ],
      "execution_count": 113,
      "outputs": [
        {
          "output_type": "stream",
          "text": [
            "0.71\\frac{e^{(-2.74x+1.28)} - e^{-(-2.74x+1.28)}}{e^{(-2.74x+1.28)} + e^{-(-2.74x+1.28)}}-1.25\\frac{e^{(-0.9x+0.66)} - e^{-(-0.9x+0.66)}}{e^{(-0.9x+0.66)} + e^{-(-0.9x+0.66)}}-0.86\\frac{e^{(-0.78x+0.27)} - e^{-(-0.78x+0.27)}}{e^{(-0.78x+0.27)} + e^{-(-0.78x+0.27)}}+0.86\\frac{e^{(3.98x+0.4)} - e^{-(3.98x+0.4)}}{e^{(3.98x+0.4)} + e^{-(3.98x+0.4)}}+0.03\\frac{e^{(0.9x+0.1)} - e^{-(0.9x+0.1)}}{e^{(0.9x+0.1)} + e^{-(0.9x+0.1)}}+0.02\n"
          ],
          "name": "stdout"
        }
      ]
    },
    {
      "cell_type": "code",
      "metadata": {
        "id": "mCUa6Gh7G48x",
        "colab_type": "code",
        "colab": {
          "base_uri": "https://localhost:8080/",
          "height": 55
        },
        "outputId": "70084834-684f-496c-a329-5dadcb5b0f02"
      },
      "source": [
        "# Create numpy formula\n",
        "def numpy_activation_function(x):\n",
        "    return '(np.exp('+x+') - np.exp(-'+x+'))/(np.exp('+x+') + np.exp(-'+x+'))'\n",
        "\n",
        "\n",
        "formula_numpy = formula\n",
        "for i in range(1,f_n+1):\n",
        "    exist = True\n",
        "    while exist:\n",
        "        try:\n",
        "            pattern = 'f'+str(i)+'(.*?)'+'f'+str(i)\n",
        "            substring = re.search(pattern, formula_numpy).group(1)\n",
        "            start = re.search(pattern, formula_numpy).start()\n",
        "            formula_numpy = formula_numpy[:start] + numpy_activation_function(substring) + formula_numpy[start + 4 + len(substring):]\n",
        "        except:\n",
        "            exist = False\n",
        "\n",
        "formula_numpy = formula_numpy.replace('(np', '*(np')\n",
        "formula_numpy = formula_numpy.replace('x-', '*x-')\n",
        "formula_numpy = formula_numpy.replace('x+', '*x+')\n",
        "formula_numpy = formula_numpy.replace('/*', '/')\n",
        "\n",
        "print(formula_numpy)"
      ],
      "execution_count": 114,
      "outputs": [
        {
          "output_type": "stream",
          "text": [
            "0.71*(np.exp((-2.74*x+1.28)) - np.exp(-(-2.74*x+1.28)))/(np.exp((-2.74*x+1.28)) + np.exp(-(-2.74*x+1.28)))-1.25*(np.exp((-0.9*x+0.66)) - np.exp(-(-0.9*x+0.66)))/(np.exp((-0.9*x+0.66)) + np.exp(-(-0.9*x+0.66)))-0.86*(np.exp((-0.78*x+0.27)) - np.exp(-(-0.78*x+0.27)))/(np.exp((-0.78*x+0.27)) + np.exp(-(-0.78*x+0.27)))+0.86*(np.exp((3.98*x+0.4)) - np.exp(-(3.98*x+0.4)))/(np.exp((3.98*x+0.4)) + np.exp(-(3.98*x+0.4)))+0.03*(np.exp((0.9*x+0.1)) - np.exp(-(0.9*x+0.1)))/(np.exp((0.9*x+0.1)) + np.exp(-(0.9*x+0.1)))+0.02\n"
          ],
          "name": "stdout"
        }
      ]
    },
    {
      "cell_type": "code",
      "metadata": {
        "id": "da0MCbPbMDG9",
        "colab_type": "code",
        "colab": {
          "base_uri": "https://localhost:8080/",
          "height": 153
        },
        "outputId": "cb5e35fd-0ee2-4614-9d76-f9f5b2676335"
      },
      "source": [
        "import numpy as np\n",
        "import matplotlib\n",
        "matplotlib.rcParams['text.usetex'] = True\n",
        "from matplotlib import rc\n",
        "rc(\"text\", usetex=False)\n",
        "import matplotlib.pyplot as plt\n",
        "\n",
        "\n",
        "fig, ax = plt.subplots(figsize=(22, 2), tight_layout=True)\n",
        "plt.axis('off')\n",
        "ax.text(0,0.5,r'$'+formula_latex+'$', fontsize=16, color='r', )\n",
        "plt.show()"
      ],
      "execution_count": 115,
      "outputs": [
        {
          "output_type": "display_data",
          "data": {
            "image/png": "[encoded data removed]",
            "text/plain": [
              "<Figure size 1584x144 with 1 Axes>"
            ]
          },
          "metadata": {
            "tags": [],
            "needs_background": "light"
          }
        }
      ]
    }
  ]
}